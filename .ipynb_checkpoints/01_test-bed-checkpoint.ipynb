{
 "cells": [
  {
   "cell_type": "code",
   "execution_count": 13,
   "metadata": {
    "collapsed": true,
    "jupyter": {
     "outputs_hidden": true
    }
   },
   "outputs": [
    {
     "ename": "AttributeError",
     "evalue": "partially initialized module 'PyMesh' has no attribute 'triangle' (most likely due to a circular import)",
     "output_type": "error",
     "traceback": [
      "\u001b[0;31m---------------------------------------------------------------------------\u001b[0m",
      "\u001b[0;31mAttributeError\u001b[0m                            Traceback (most recent call last)",
      "Input \u001b[0;32mIn [13]\u001b[0m, in \u001b[0;36m<cell line: 11>\u001b[0;34m()\u001b[0m\n\u001b[1;32m      9\u001b[0m \u001b[38;5;28;01mimport\u001b[39;00m \u001b[38;5;21;01mscipy\u001b[39;00m\u001b[38;5;21;01m.\u001b[39;00m\u001b[38;5;21;01mstats\u001b[39;00m \u001b[38;5;28;01mas\u001b[39;00m \u001b[38;5;21;01mstats\u001b[39;00m\n\u001b[1;32m     10\u001b[0m \u001b[38;5;28;01mimport\u001b[39;00m \u001b[38;5;21;01mxarray\u001b[39;00m \u001b[38;5;28;01mas\u001b[39;00m \u001b[38;5;21;01mxr\u001b[39;00m\n\u001b[0;32m---> 11\u001b[0m \u001b[38;5;28;01mfrom\u001b[39;00m \u001b[38;5;21;01mPyMesh\u001b[39;00m \u001b[38;5;28;01mimport\u001b[39;00m \u001b[38;5;241m*\u001b[39m\n",
      "File \u001b[0;32m/panfs/jay/groups/8/feng/jone3247/forest-canopy-model/PyMesh/__init__.py:23\u001b[0m, in \u001b[0;36m<module>\u001b[0;34m\u001b[0m\n\u001b[1;32m     21\u001b[0m \u001b[38;5;28;01mfrom\u001b[39;00m \u001b[38;5;21;01m.\u001b[39;00m\u001b[38;5;21;01mboolean\u001b[39;00m \u001b[38;5;28;01mimport\u001b[39;00m boolean\n\u001b[1;32m     22\u001b[0m \u001b[38;5;28;01mfrom\u001b[39;00m \u001b[38;5;21;01m.\u001b[39;00m\u001b[38;5;21;01mcompression\u001b[39;00m \u001b[38;5;28;01mimport\u001b[39;00m compress, decompress\n\u001b[0;32m---> 23\u001b[0m \u001b[38;5;28;01mfrom\u001b[39;00m \u001b[38;5;21;01m.\u001b[39;00m\u001b[38;5;21;01mconvex_hull\u001b[39;00m \u001b[38;5;28;01mimport\u001b[39;00m convex_hull\n\u001b[1;32m     24\u001b[0m \u001b[38;5;28;01mfrom\u001b[39;00m \u001b[38;5;21;01m.\u001b[39;00m\u001b[38;5;21;01mCSGTree\u001b[39;00m \u001b[38;5;28;01mimport\u001b[39;00m CSGTree\n\u001b[1;32m     25\u001b[0m \u001b[38;5;28;01mfrom\u001b[39;00m \u001b[38;5;21;01m.\u001b[39;00m\u001b[38;5;21;01mcut_to_disk\u001b[39;00m \u001b[38;5;28;01mimport\u001b[39;00m cut_to_disk\n",
      "File \u001b[0;32m/panfs/jay/groups/8/feng/jone3247/forest-canopy-model/PyMesh/convex_hull.py:5\u001b[0m, in \u001b[0;36m<module>\u001b[0;34m\u001b[0m\n\u001b[1;32m      3\u001b[0m \u001b[38;5;28;01mimport\u001b[39;00m \u001b[38;5;21;01mnumpy\u001b[39;00m \u001b[38;5;28;01mas\u001b[39;00m \u001b[38;5;21;01mnp\u001b[39;00m\n\u001b[1;32m      4\u001b[0m \u001b[38;5;28;01mfrom\u001b[39;00m \u001b[38;5;21;01m.\u001b[39;00m\u001b[38;5;21;01mmeshio\u001b[39;00m \u001b[38;5;28;01mimport\u001b[39;00m form_mesh\n\u001b[0;32m----> 5\u001b[0m \u001b[38;5;28;01mfrom\u001b[39;00m \u001b[38;5;21;01m.\u001b[39;00m\u001b[38;5;21;01mtriangle\u001b[39;00m \u001b[38;5;28;01mimport\u001b[39;00m triangle\n\u001b[1;32m      7\u001b[0m \u001b[38;5;28;01mdef\u001b[39;00m \u001b[38;5;21mconvex_hull\u001b[39m(mesh, engine\u001b[38;5;241m=\u001b[39m\u001b[38;5;124m\"\u001b[39m\u001b[38;5;124mauto\u001b[39m\u001b[38;5;124m\"\u001b[39m, with_timing\u001b[38;5;241m=\u001b[39m\u001b[38;5;28;01mFalse\u001b[39;00m):\n\u001b[1;32m      8\u001b[0m     \u001b[38;5;124;03m\"\"\"\u001b[39;00m\n\u001b[1;32m      9\u001b[0m \u001b[38;5;124;03m    Compute the convex hull of an input mesh.\u001b[39;00m\n\u001b[1;32m     10\u001b[0m \n\u001b[0;32m   (...)\u001b[0m\n\u001b[1;32m     29\u001b[0m \u001b[38;5;124;03m        * \"source_vertex\": An array of source vertex indices into the input mesh.\u001b[39;00m\n\u001b[1;32m     30\u001b[0m \u001b[38;5;124;03m    \"\"\"\u001b[39;00m\n",
      "File \u001b[0;32m/panfs/jay/groups/8/feng/jone3247/forest-canopy-model/PyMesh/triangle.py:4\u001b[0m, in \u001b[0;36m<module>\u001b[0;34m\u001b[0m\n\u001b[1;32m      1\u001b[0m \u001b[38;5;28;01mimport\u001b[39;00m \u001b[38;5;21;01mPyMesh\u001b[39;00m\n\u001b[1;32m      2\u001b[0m \u001b[38;5;28;01mfrom\u001b[39;00m \u001b[38;5;21;01m.\u001b[39;00m\u001b[38;5;21;01mmeshio\u001b[39;00m \u001b[38;5;28;01mimport\u001b[39;00m form_mesh\n\u001b[0;32m----> 4\u001b[0m \u001b[38;5;28;01mclass\u001b[39;00m \u001b[38;5;21;01mtriangle\u001b[39;00m(\u001b[43mPyMesh\u001b[49m\u001b[38;5;241;43m.\u001b[39;49m\u001b[43mtriangle\u001b[49m):\n\u001b[1;32m      5\u001b[0m     \u001b[38;5;124;03m\"\"\" Wrapper around `Shewchuk's triangle\u001b[39;00m\n\u001b[1;32m      6\u001b[0m \u001b[38;5;124;03m    <https://www.cs.cmu.edu/~quake/triangle.html>`_.\u001b[39;00m\n\u001b[1;32m      7\u001b[0m \n\u001b[0;32m   (...)\u001b[0m\n\u001b[1;32m    109\u001b[0m \n\u001b[1;32m    110\u001b[0m \u001b[38;5;124;03m    \"\"\"\u001b[39;00m\n\u001b[1;32m    111\u001b[0m     \u001b[38;5;129m@property\u001b[39m\n\u001b[1;32m    112\u001b[0m     \u001b[38;5;28;01mdef\u001b[39;00m \u001b[38;5;21mmesh\u001b[39m(\u001b[38;5;28mself\u001b[39m):\n",
      "\u001b[0;31mAttributeError\u001b[0m: partially initialized module 'PyMesh' has no attribute 'triangle' (most likely due to a circular import)"
     ]
    }
   ],
   "source": [
    "import matplotlib.pyplot as plt\n",
    "import seaborn as sns\n",
    "import numpy as np\n",
    "import pandas as pd\n",
    "import shapely as shp\n",
    "import geopandas as gpd\n",
    "import math\n",
    "import random\n",
    "import scipy.stats as stats\n",
    "import xarray as xr\n",
    "import pymesh "
   ]
  },
  {
   "cell_type": "code",
   "execution_count": 6,
   "metadata": {},
   "outputs": [],
   "source": [
    "'''Functions'''\n",
    "def rotate_origin_only(x, y, radians):\n",
    "    \"\"\"Only rotate a point around the origin (0, 0).\"\"\"\n",
    "    xx = x * math.cos(radians) + y * math.sin(radians)\n",
    "    yy = -x * math.sin(radians) + y * math.cos(radians)\n",
    "\n",
    "    return xx, yy"
   ]
  },
  {
   "cell_type": "code",
   "execution_count": 7,
   "metadata": {},
   "outputs": [],
   "source": [
    "random.seed(12345)"
   ]
  },
  {
   "cell_type": "markdown",
   "metadata": {},
   "source": [
    "## 2D Testing"
   ]
  },
  {
   "cell_type": "code",
   "execution_count": 4,
   "metadata": {},
   "outputs": [
    {
     "ename": "AttributeError",
     "evalue": "module 'shapely' has no attribute 'Point'",
     "output_type": "error",
     "traceback": [
      "\u001b[0;31m---------------------------------------------------------------------------\u001b[0m",
      "\u001b[0;31mAttributeError\u001b[0m                            Traceback (most recent call last)",
      "Input \u001b[0;32mIn [4]\u001b[0m, in \u001b[0;36m<cell line: 2>\u001b[0;34m()\u001b[0m\n\u001b[1;32m      1\u001b[0m \u001b[38;5;66;03m#Declare some points\u001b[39;00m\n\u001b[0;32m----> 2\u001b[0m site \u001b[38;5;241m=\u001b[39m \u001b[43mshp\u001b[49m\u001b[38;5;241;43m.\u001b[39;49m\u001b[43mPoint\u001b[49m((\u001b[38;5;241m0\u001b[39m, \u001b[38;5;241m0\u001b[39m))\u001b[38;5;241m.\u001b[39mbuffer(\u001b[38;5;241m8\u001b[39m)\n\u001b[1;32m      3\u001b[0m p1 \u001b[38;5;241m=\u001b[39m shp\u001b[38;5;241m.\u001b[39mPoint((\u001b[38;5;241m-\u001b[39m\u001b[38;5;241m1.3\u001b[39m, \u001b[38;5;241m1.7\u001b[39m))\u001b[38;5;241m.\u001b[39mbuffer(\u001b[38;5;241m3\u001b[39m) \u001b[38;5;66;03m#tree 1\u001b[39;00m\n\u001b[1;32m      4\u001b[0m p2 \u001b[38;5;241m=\u001b[39m shp\u001b[38;5;241m.\u001b[39mPoint((\u001b[38;5;241m1.5\u001b[39m, \u001b[38;5;241m-\u001b[39m\u001b[38;5;241m0.25\u001b[39m))\u001b[38;5;241m.\u001b[39mbuffer(\u001b[38;5;241m1.3\u001b[39m) \u001b[38;5;66;03m#tree 2\u001b[39;00m\n",
      "\u001b[0;31mAttributeError\u001b[0m: module 'shapely' has no attribute 'Point'"
     ]
    }
   ],
   "source": [
    "#Declare some points\n",
    "site = shp.Point((0, 0)).buffer(8)\n",
    "p1 = shp.Point((-1.3, 1.7)).buffer(3) #tree 1\n",
    "p2 = shp.Point((1.5, -0.25)).buffer(1.3) #tree 2\n",
    "p3 = shp.Point((-3.2, -5.5)).buffer(2.5) #tree 3"
   ]
  },
  {
   "cell_type": "code",
   "execution_count": null,
   "metadata": {},
   "outputs": [],
   "source": [
    "#See how far they are from the center of the plot\n",
    "print(p1.centroid.distance(shp.Point(0,0)))\n",
    "print(p2.centroid.distance(shp.Point(0,0)))\n",
    "print(p3.centroid.distance(shp.Point(0,0)))"
   ]
  },
  {
   "cell_type": "code",
   "execution_count": null,
   "metadata": {},
   "outputs": [],
   "source": [
    "#Plot\n",
    "fig, ax = plt.subplots(1, 1, figsize = (5, 5))\n",
    "\n",
    "gpd.GeoSeries(site).plot(ax = ax, edgecolor = 'silver', facecolor = 'white')\n",
    "for p in [p1, p2, p3]:\n",
    "    gpd.GeoSeries(p).plot(ax = ax, color = 'green', alpha = 0.2)\n",
    "    gpd.GeoSeries(p.centroid).plot(ax = ax, color = 'green')\n",
    "\n",
    "ax.set_xlim(-8, 8)\n",
    "ax.set_ylim(-8, 8)"
   ]
  },
  {
   "cell_type": "code",
   "execution_count": null,
   "metadata": {},
   "outputs": [],
   "source": [
    "#Try Generating random trees with a specific mean distance and sd\n",
    "#Generate distances\n",
    "dists = np.random.normal(loc = 4.2, scale = 2.1, size = 10)\n",
    "\n",
    "#Check all are in correct range\n",
    "while(dists > 8).any():\n",
    "    dists = np.random.normal(loc = 4.2, scale = 2.1, size = 10)\n",
    "\n",
    "#Generate DBHs (in cm)\n",
    "dbhs = np.random.normal(loc = 32, scale = 3.4, size = 10)\n",
    "\n",
    "#calculate crown diameter (using allometric equation for American Elm)\n",
    "crown = (1.92 + 18.30*(dbhs/100))/2\n",
    "\n",
    "#Generate locations\n",
    "trees = []\n",
    "start = site.centroid\n",
    "for i in range(0, len(dists)):\n",
    "    #assume on x axis and rotate a random number of degrees\n",
    "    deg = np.random.uniform(low = 0, high = 2*math.pi)\n",
    "    xx, yy = rotate_origin_only(dists[i], 0, deg)\n",
    "\n",
    "    #create point\n",
    "    trees.append(shp.Point((xx, yy)).buffer(crown[i]))\n",
    "   \n",
    "    "
   ]
  },
  {
   "cell_type": "code",
   "execution_count": null,
   "metadata": {},
   "outputs": [],
   "source": [
    "#Plot\n",
    "fig, ax = plt.subplots(1, 1, figsize = (5, 5))\n",
    "\n",
    "gpd.GeoSeries(site).plot(ax = ax, edgecolor = 'silver', facecolor = 'white')\n",
    "for tree in trees:\n",
    "    gpd.GeoSeries(tree).plot(ax = ax, color = 'green', alpha = 0.2)\n",
    "    gpd.GeoSeries(tree.centroid).plot(ax = ax, color = 'green')\n",
    "\n",
    "ax.set_xlim(-8, 8)\n",
    "ax.set_ylim(-8, 8)"
   ]
  },
  {
   "cell_type": "code",
   "execution_count": null,
   "metadata": {},
   "outputs": [],
   "source": [
    "'''Calculate total overlap coverage'''\n",
    "#Use shapely to calculate the total union and the intersection over the union\n",
    "uni = shp.ops.unary_union(trees)"
   ]
  },
  {
   "cell_type": "code",
   "execution_count": null,
   "metadata": {},
   "outputs": [],
   "source": [
    "#Plot\n",
    "fig, ax = plt.subplots(1, 1, figsize = (5, 5))\n",
    "\n",
    "gpd.GeoSeries(site).plot(ax = ax, edgecolor = 'silver', facecolor = 'white')\n",
    "for tree in trees:\n",
    "    gpd.GeoSeries(tree).plot(ax = ax, color = 'green', alpha = 0.2)\n",
    "    gpd.GeoSeries(tree.centroid).plot(ax = ax, color = 'green')\n",
    "\n",
    "#clip and plot union\n",
    "uni_clipped = gpd.GeoSeries(uni).clip(site)\n",
    "gpd.GeoSeries(uni_clipped).plot(ax = ax, edgecolor = 'black', alpha = 0.2)\n",
    "\n",
    "ax.set_xlim(-8, 8)\n",
    "ax.set_ylim(-8, 8)"
   ]
  },
  {
   "cell_type": "code",
   "execution_count": null,
   "metadata": {},
   "outputs": [],
   "source": [
    "#Calculate percent of site covered by tree\n",
    "pcoverage = uni_clipped.area/site.area\n",
    "pcoverage"
   ]
  },
  {
   "cell_type": "code",
   "execution_count": null,
   "metadata": {},
   "outputs": [],
   "source": [
    "'''Calculate total overlap'''\n",
    "\n",
    "#Collect intersections recursively\n",
    "temp = trees[0]\n",
    "intersects = []\n",
    "for tree in trees[1:]:\n",
    "    #add intersection of unioned shape and new tree\n",
    "    intersects.append(shp.intersection(tree, temp))\n",
    "    #compute union\n",
    "    temp = shp.union(tree, temp)\n",
    "\n",
    "intersect = shp.ops.unary_union(intersects)"
   ]
  },
  {
   "cell_type": "code",
   "execution_count": null,
   "metadata": {},
   "outputs": [],
   "source": [
    "#Plot\n",
    "fig, ax = plt.subplots(1, 1, figsize = (5, 5))\n",
    "\n",
    "gpd.GeoSeries(site).plot(ax = ax, edgecolor = 'silver', facecolor = 'white')\n",
    "for tree in trees:\n",
    "    gpd.GeoSeries(tree).plot(ax = ax, color = 'green', alpha = 0.2)\n",
    "    gpd.GeoSeries(tree.centroid).plot(ax = ax, color = 'green')\n",
    "\n",
    "#clip and plot union\n",
    "int_clipped = gpd.GeoSeries(intersect).clip(site)\n",
    "gpd.GeoSeries(int_clipped).plot(ax = ax, edgecolor = 'black', alpha = 0.2)\n",
    "\n",
    "ax.set_xlim(-8, 8)\n",
    "ax.set_ylim(-8, 8)"
   ]
  },
  {
   "cell_type": "code",
   "execution_count": null,
   "metadata": {},
   "outputs": [],
   "source": [
    "#Calculate percent of site overlapped\n",
    "poverlap = int_clipped.area/site.area\n",
    "poverlap"
   ]
  },
  {
   "cell_type": "markdown",
   "metadata": {},
   "source": [
    "## 2D Function"
   ]
  },
  {
   "cell_type": "code",
   "execution_count": null,
   "metadata": {},
   "outputs": [],
   "source": [
    "'''Combine into function'''\n",
    "\n",
    "def simulateSite(n, distMu, distSigma, dbhMu, dbhSigma, pCon, plots = False):\n",
    "    #Step 1: Generate site\n",
    "    site = shp.Point((0, 0)).buffer(8)\n",
    "\n",
    "    #Generate distances\n",
    "    dists = np.random.normal(loc = distMu, scale = distSigma, size = n)\n",
    "\n",
    "    #Check all are in correct range\n",
    "    while ((dists > 8).any()) | ((dists < 0).any()):\n",
    "        dists = np.random.normal(loc = distMu, scale = distSigma, size = n)\n",
    "\n",
    "    #Generate DBHs (in cm)\n",
    "    dbhs = np.random.normal(loc = dbhMu, scale = dbhSigma, size = n)\n",
    "\n",
    "    #Check all are in correct range\n",
    "    while(dbhs < 0).any():\n",
    "        dbhs = np.random.normal(loc = dbhMu, scale = dbhSigma, size = n)\n",
    "\n",
    "    #Generate conif crown widths \n",
    "    conifCC = (stats.gamma.rvs(2.84604046158689, loc=-1.8990921243783796, scale=14.411867120014431, size=n))/100\n",
    "    while(conifCC < 0).any():\n",
    "        conifCC = (stats.gamma.rvs(2.84604046158689, loc=-1.8990921243783796, scale=14.411867120014431, size=n))/100\n",
    "\n",
    "    #Based on pCon, assign crown width for conif and decid trees\n",
    "    nCon = int(n*pCon)\n",
    "    crown = np.zeros(n)\n",
    "    #take first nCon trees:\n",
    "    if nCon == n:\n",
    "        #For sites with all conifers, just take all simulated crown data\n",
    "        crown = conifCC\n",
    "    elif (nCon > 0) & (nCon < n):\n",
    "        #CONIFEROUS - take first nCon values\n",
    "        crown[0:nCon+1] = conifCC[0:nCon+1]\n",
    "        #DECIDUOUS - calculate crown diameter (using allometric equation for american elm)\n",
    "        crown[nCon+1:] = (1.92 + 18.30*(dbhs[nCon+1:]/100))/2\n",
    "    else:\n",
    "        #try just using DBH instead of overestimated canopy \n",
    "        crown = (1.92 + 18.30*(dbhs/100))/2\n",
    "\n",
    "    #Generate locations\n",
    "    trees = []\n",
    "    start = site.centroid\n",
    "    for i in range(0, len(dists)):\n",
    "        #assume on x axis and rotate a random number of degrees\n",
    "        deg = np.random.uniform(low = 0, high = 2*math.pi)\n",
    "        xx, yy = rotate_origin_only(dists[i], 0, deg)\n",
    "\n",
    "        #create point\n",
    "        trees.append(shp.Point((xx, yy)).buffer(crown[i]))\n",
    "\n",
    "\n",
    "    #Step 1.5: Calculate total tree canopy\n",
    "    areas = [tree.area for tree in trees]\n",
    "    tot = np.cumsum(areas)[-1]\n",
    "\n",
    "    #Step 2: Calculate total plot coverage\n",
    "    #Use shapely to calculate the total union and the intersection over the union\n",
    "    uni = shp.ops.unary_union(trees)\n",
    "    uni_clipped = gpd.GeoSeries(uni).clip(site)\n",
    "    pcoverage = float(uni_clipped.area/site.area)\n",
    "\n",
    "    #Step 3: Calculate total overlap\n",
    "    #Collect intersections recursively\n",
    "    temp = trees[0]\n",
    "    intersects = []\n",
    "    for tree in trees[1:]:\n",
    "        #add intersection of unioned shape and new tree\n",
    "        intersects.append(shp.intersection(tree, temp))\n",
    "        #compute union\n",
    "        temp = shp.union(tree, temp)\n",
    "\n",
    "    #Merge\n",
    "    intersect = shp.ops.unary_union(intersects)\n",
    "    int_clipped = gpd.GeoSeries(intersect).clip(site)\n",
    "    \n",
    "    if(len(int_clipped.area) > 0):\n",
    "        poverlap = float(int_clipped.area/site.area)\n",
    "    else:\n",
    "        poverlap = 0\n",
    "\n",
    "    #Step 4: Plot\n",
    "    if(plots):\n",
    "        fig, [ax1, ax2] = plt.subplots(1, 2, figsize = (5,  10), \n",
    "                                            sharex = True, \n",
    "                                            sharey = True, \n",
    "                                            layout = 'tight')\n",
    "\n",
    "        #Plot union\n",
    "        gpd.GeoSeries(site).plot(ax = ax1, edgecolor = 'silver', facecolor = 'white')\n",
    "        for tree in trees:\n",
    "            gpd.GeoSeries(tree).plot(ax = ax1, color = 'green', alpha = 0.2)\n",
    "            gpd.GeoSeries(tree.centroid).plot(ax = ax1, color = 'green')\n",
    "        gpd.GeoSeries(uni_clipped).plot(ax = ax1, edgecolor = 'black', alpha = 0.2)\n",
    "\n",
    "        #Plot intersection\n",
    "        gpd.GeoSeries(site).plot(ax = ax2, edgecolor = 'silver', facecolor = 'white')\n",
    "        for tree in trees:\n",
    "            gpd.GeoSeries(tree).plot(ax = ax2, color = 'green', alpha = 0.2)\n",
    "            gpd.GeoSeries(tree.centroid).plot(ax = ax2, color = 'green')\n",
    "\n",
    "        #clip and plot union\n",
    "        gpd.GeoSeries(int_clipped).plot(ax = ax2, edgecolor = 'black', alpha = 0.2)\n",
    "\n",
    "        ax1.set_xlim(-8, 8)\n",
    "        ax1.set_ylim(-8, 8)\n",
    "        ax1.set_title('Total Plot Coverage: ' + str(np.round(pcoverage, 2)), loc = 'left', size = 'small')\n",
    "        ax2.set_xlim(-8, 8)\n",
    "        ax2.set_ylim(-8, 8)\n",
    "        ax2.set_title('Total Plot Overlap: ' + str(np.round(poverlap, 2)), loc = 'left', size = 'small')\n",
    "\n",
    "    return pcoverage, poverlap, tot"
   ]
  },
  {
   "cell_type": "code",
   "execution_count": null,
   "metadata": {},
   "outputs": [],
   "source": [
    "simulateSite(12, 4.2, 1.4, 22.8, 10.5, 0.11, plots = True)"
   ]
  },
  {
   "cell_type": "markdown",
   "metadata": {},
   "source": [
    "## 3D Testing"
   ]
  },
  {
   "cell_type": "code",
   "execution_count": null,
   "metadata": {},
   "outputs": [],
   "source": [
    "#Declare some trees\n",
    "site = shp.Point((0, 0)).buffer(8)\n",
    "p1 = shp.Point((-1.3, 1.7)).buffer(3) #tree 1\n",
    "p2 = shp.Point((1.5, -0.25)).buffer(1.3) #tree 2\n",
    "p3 = shp.Point((-3.2, -5.5)).buffer(2.5) #tree 3"
   ]
  },
  {
   "cell_type": "code",
   "execution_count": null,
   "metadata": {},
   "outputs": [],
   "source": [
    "#Zip together x and y data with 0 z value\n",
    "x = p1.exterior.xy[0]\n",
    "y = p1.exterior.xy[1]\n",
    "treeBase = list(zip(x, y, np.zeros(len(x))))\n",
    "treeTop = (p1.centroid.x, p1.centroid.y, 3)\n",
    "treeBase.append(treeTop)\n",
    "tree = shp.Polygon(treeBase)"
   ]
  },
  {
   "cell_type": "code",
   "execution_count": null,
   "metadata": {},
   "outputs": [],
   "source": [
    "fig = plt.figure()\n",
    "ax = fig.add_subplot(projection='3d')\n",
    "coor = list(shp.get_exterior_ring(tree).coords)\n",
    "l = len(coor)\n",
    "x = [coor[i][0] for i in range(0, l)]\n",
    "y = [coor[i][1] for i in range(0, l)]\n",
    "z = [coor[i][2] for i in range(0, l)]\n",
    "ax.plot_trisurf(x, y, z, color = 'green')\n",
    "ax.set_xlim(-8, 8)\n",
    "ax.set_ylim(-8, 8)\n",
    "ax.set_zlim(0, 4)"
   ]
  },
  {
   "cell_type": "code",
   "execution_count": null,
   "metadata": {},
   "outputs": [],
   "source": [
    "#Try Generating small forest with all trees:\n",
    "fig = plt.figure()\n",
    "ax = fig.add_subplot(projection='3d')\n",
    "\n",
    "trees = []\n",
    "\n",
    "for p in [p1, p2, p3]:\n",
    "    #Zip together x and y data with 0 z value\n",
    "    x = p.exterior.xy[0]\n",
    "    y = p.exterior.xy[1]\n",
    "    treeBase = list(zip(x, y, np.zeros(len(x))))\n",
    "    treeTop = (p.centroid.x, p.centroid.y, 3) #for now make them all the same height\n",
    "    treeBase.append(treeTop)\n",
    "    #Make polygon\n",
    "    tree = shp.Polygon(treeBase)\n",
    "    #plot\n",
    "    coor = list(shp.get_exterior_ring(tree).coords)\n",
    "    l = len(coor)\n",
    "    x2 = [coor[i][0] for i in range(0, l)]\n",
    "    y2 = [coor[i][1] for i in range(0, l)]\n",
    "    z2 = [coor[i][2] for i in range(0, l)]\n",
    "    ax.plot_trisurf(x2, y2, z2, color = 'green')\n",
    "\n",
    "    trees.append(tree)\n",
    "\n",
    "ax.set_xlim(-8, 8)\n",
    "ax.set_ylim(-8, 8)\n",
    "ax.set_zlim(0, 4)"
   ]
  },
  {
   "cell_type": "code",
   "execution_count": null,
   "metadata": {},
   "outputs": [],
   "source": [
    "#Try some cylinders\n",
    "d1 = shp.Point((-2, 1.3)).buffer(0.1) #tree 1\n",
    "d2 = shp.Point((4.3, -0.25)).buffer(0.05) #tree 2\n",
    "d3 = shp.Point((-5.1, 2.5)).buffer(0.05) #tree 3"
   ]
  },
  {
   "cell_type": "code",
   "execution_count": null,
   "metadata": {},
   "outputs": [],
   "source": [
    "#Try Generating small forest with all trees:\n",
    "fig = plt.figure()\n",
    "ax = fig.add_subplot(projection='3d')\n",
    "\n",
    "for p in [p1, p2, p3]:\n",
    "    #Zip together x and y data with 0 z value\n",
    "    x = p.exterior.xy[0]\n",
    "    y = p.exterior.xy[1]\n",
    "    treeBase = list(zip(x, y, np.zeros(len(x))))\n",
    "    treeTop = (p.centroid.x, p.centroid.y, 3) #for now make them all the same height\n",
    "    treeBase.append(treeTop)\n",
    "    #Make polygon\n",
    "    tree = shp.Polygon(treeBase)\n",
    "    #plot\n",
    "    coor = list(shp.get_exterior_ring(tree).coords)\n",
    "    l = len(coor)\n",
    "    x2 = [coor[i][0] for i in range(0, l)]\n",
    "    y2 = [coor[i][1] for i in range(0, l)]\n",
    "    z2 = [coor[i][2] for i in range(0, l)]\n",
    "    ax.plot_trisurf(x2, y2, z2, color = 'green')\n",
    "\n",
    "for d in [d1, d2, d3]:\n",
    "    #Zip together x and y data with 0 z value\n",
    "    x = d.exterior.xy[0]\n",
    "    y = d.exterior.xy[1]\n",
    "    treeBase = list(zip(x, y, np.zeros(len(x))))\n",
    "    treeTop = list(zip(x, y, 5*np.ones(len(x)))) \n",
    "    treeOut = treeBase + treeTop\n",
    "    #Make polygon\n",
    "    tree = shp.Polygon(treeOut)\n",
    "    #plot\n",
    "    coor = list(shp.get_exterior_ring(tree).coords)\n",
    "    l = len(coor)\n",
    "    x2 = [coor[i][0] for i in range(0, l)]\n",
    "    y2 = [coor[i][1] for i in range(0, l)]\n",
    "    z2 = [coor[i][2] for i in range(0, l)]\n",
    "    ax.plot_trisurf(x2, y2, z2, color = 'green')\n",
    "\n",
    "ax.set_xlim(-8, 8)\n",
    "ax.set_ylim(-8, 8)\n",
    "ax.set_zlim(0, 6)"
   ]
  },
  {
   "cell_type": "code",
   "execution_count": null,
   "metadata": {},
   "outputs": [],
   "source": [
    "'''Coverage'''\n",
    "#Use shapely to calculate the total union and the intersection over the union\n",
    "uni = shp.union_all(trees)"
   ]
  },
  {
   "cell_type": "code",
   "execution_count": null,
   "metadata": {},
   "outputs": [],
   "source": [
    "#clip and plot union\n",
    "fig = plt.figure()\n",
    "ax = fig.add_subplot(projection='3d')\n",
    "\n",
    "ax.set_aspect('auto', 'box')\n",
    "\n",
    "#Plot site\n",
    "site_outline = list(shp.get_exterior_ring(site).coords)\n",
    "sitex = [site_outline[i][0] for i in range(0, len(site_outline))]\n",
    "sitey = [site_outline[i][1] for i in range(0, len(site_outline))]\n",
    "sitetop = 5*np.ones(len(site_outline))\n",
    "sitebottom = np.zeros(len(site_outline))\n",
    "site3D = shp.Polygon(list(zip(sitex, sitey, sitebottom)) + list(zip(sitex, sitey, sitetop)))\n",
    "ax.plot(sitex, sitey, sitebottom, color = 'silver')\n",
    "ax.plot(sitex, sitey, sitetop, color = 'silver')\n",
    "\n",
    "#Plot trees\n",
    "#for tree in trees:\n",
    "#    #plot\n",
    "#    coor = list(shp.get_exterior_ring(tree).coords)\n",
    "#    l = len(coor)\n",
    "#    x2 = [coor[i][0] for i in range(0, l)]\n",
    "#    y2 = [coor[i][1] for i in range(0, l)]\n",
    "#    z2 = [coor[i][2] for i in range(0, l)]\n",
    "#    ax.plot_trisurf(x2, y2, z2, color = 'green')\n",
    "\n",
    "#Plot Unions\n",
    "uni_clipped = shp.intersection_all([uni, site3D])\n",
    "\n",
    "for g in uni.geoms:\n",
    "     #plot\n",
    "    ob = list(shp.get_exterior_ring(g).coords)\n",
    "    l = len(ob)\n",
    "    x3 = [ob[i][0] for i in range(0, l)]\n",
    "    y3 = [ob[i][1] for i in range(0, l)]\n",
    "    z3 = [ob[i][2] for i in range(0, l)]\n",
    "    ax.plot_trisurf(x3, y3, z3, color = 'black')\n",
    "\n",
    "ax.set_xlim(-8, 8)\n",
    "ax.set_ylim(-8, 8)\n",
    "ax.set_zlim(0, 5)\n"
   ]
  },
  {
   "cell_type": "code",
   "execution_count": null,
   "metadata": {},
   "outputs": [],
   "source": [
    "list(trees[0].exterior.coords)"
   ]
  },
  {
   "cell_type": "markdown",
   "metadata": {},
   "source": [
    "## Concatenate LAI, Snow, and vegetation data"
   ]
  },
  {
   "cell_type": "code",
   "execution_count": null,
   "metadata": {},
   "outputs": [],
   "source": [
    "'''Import Data'''\n",
    "### Import Snow Data\n",
    "s2data = xr.open_dataset('./data/01_cleanedsnowdataS2.nc')\n",
    "s2data_df = s2data.to_dataframe().reset_index(drop = False)\n",
    "s2data_df = s2data_df.replace('NaN', np.nan)\n",
    "s2data_df = s2data_df.replace('nan', np.nan)\n",
    "s2data_df.time = pd.to_datetime(s2data_df.time)\n",
    "s2data_df['watershed'] = 'S2'\n",
    "\n",
    "s6data = xr.open_dataset('./data/01_cleanedsnowdataS6.nc')\n",
    "s6data_df = s6data.to_dataframe().reset_index(drop = False)\n",
    "s6data_df = s6data_df.replace('NaN', np.nan)\n",
    "s6data_df = s6data_df.replace('nan', np.nan)\n",
    "s6data_df.time = pd.to_datetime(s6data_df.time)\n",
    "s6data_df['watershed'] = 'S6'\n",
    "\n",
    "allSnow_df = pd.concat([s6data_df, s2data_df]).reset_index()\n",
    "\n",
    "### Import forestry Data -- summarized by stake\n",
    "forestInv = pd.read_csv('./data/vegdata_withsnow.csv')"
   ]
  },
  {
   "cell_type": "code",
   "execution_count": null,
   "metadata": {},
   "outputs": [],
   "source": [
    "forestInv.columns"
   ]
  },
  {
   "cell_type": "code",
   "execution_count": null,
   "metadata": {},
   "outputs": [],
   "source": [
    "#Select necessary forest data\n",
    "forest = forestInv[['Stake_ID', 'OLS.Prediction.Ring.5', 'DIST_FT', 'DIST_M', 'DBH_IN', 'DBH_CM',\n",
    "       'DIST_FT_SD', 'DIST_M_SD', 'DBH_IN_SD', 'DBH_CM_SD', 'n', 'prop_Coniferous', 'Co']]\n",
    "\n",
    "#Snow year\n",
    "allSnow_df['SYear'] = [2024 if allSnow_df.time[i] > pd.to_datetime('09-01-2023') else 2023 for i in range(0, len(allSnow_df.time))]\n",
    "\n",
    "#Remove Nan\n",
    "allSnow_nan = allSnow_df.dropna().reset_index(drop = True)\n",
    "\n",
    "#Take peak snow depth per site\n",
    "peakSnow = allSnow_nan.groupby(['stakes', 'northing', 'easting', 'zones', 'aspect', 'slope', 'watershed', 'SYear'])['depths'].max().reset_index()\n",
    "peakSnow = peakSnow.rename(columns = {'depths' : 'maxDepth'})"
   ]
  },
  {
   "cell_type": "code",
   "execution_count": null,
   "metadata": {},
   "outputs": [],
   "source": [
    "peakSnow"
   ]
  },
  {
   "cell_type": "code",
   "execution_count": null,
   "metadata": {},
   "outputs": [],
   "source": [
    "#Merge with snow data\n",
    "merged = pd.merge(peakSnow, forest, left_on = 'stakes', right_on = 'Stake_ID')\n",
    "merged"
   ]
  },
  {
   "cell_type": "code",
   "execution_count": null,
   "metadata": {},
   "outputs": [],
   "source": [
    "#Save to dataframe\n",
    "merged.to_csv('./data/compiled_data_formodel.csv', index = False)"
   ]
  },
  {
   "cell_type": "code",
   "execution_count": null,
   "metadata": {},
   "outputs": [],
   "source": []
  },
  {
   "cell_type": "code",
   "execution_count": null,
   "metadata": {},
   "outputs": [],
   "source": []
  }
 ],
 "metadata": {
  "kernelspec": {
   "display_name": "CMIP",
   "language": "python",
   "name": "cmip"
  },
  "language_info": {
   "codemirror_mode": {
    "name": "ipython",
    "version": 3
   },
   "file_extension": ".py",
   "mimetype": "text/x-python",
   "name": "python",
   "nbconvert_exporter": "python",
   "pygments_lexer": "ipython3",
   "version": "3.9.13"
  }
 },
 "nbformat": 4,
 "nbformat_minor": 4
}
