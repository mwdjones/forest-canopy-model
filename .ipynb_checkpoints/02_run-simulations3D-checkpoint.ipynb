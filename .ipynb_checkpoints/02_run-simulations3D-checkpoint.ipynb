{
 "cells": [
  {
   "cell_type": "code",
   "execution_count": 1,
   "id": "cca3bc28-e8c6-4cd8-a870-4237068297dc",
   "metadata": {},
   "outputs": [],
   "source": [
    "import matplotlib.pyplot as plt\n",
    "import seaborn as sns\n",
    "import numpy as np\n",
    "import pandas as pd\n",
    "import math\n",
    "import random\n",
    "import scipy.stats as stats\n",
    "import pymesh\n",
    "from functions import *"
   ]
  },
  {
   "cell_type": "code",
   "execution_count": 2,
   "id": "bf13f510-aa4c-4e52-ba61-a83428f34b4e",
   "metadata": {},
   "outputs": [
    {
     "name": "stdout",
     "output_type": "stream",
     "text": [
      "Loading data\n",
      "Data opened, model run starting\n"
     ]
    }
   ],
   "source": [
    "'''PARAMETERS'''\n",
    "niters = 10\n",
    "\n",
    "print('Loading data')\n",
    "\n",
    "veg_data = pd.read_csv('./data/compiled_data_formodel.csv')\n",
    "\n",
    "random.seed(12345)\n",
    "\n",
    "print('Data opened, model run starting')"
   ]
  },
  {
   "cell_type": "code",
   "execution_count": 3,
   "id": "c1d5ff70-ac67-4c8d-8035-bfbe0726d84b",
   "metadata": {},
   "outputs": [],
   "source": [
    "'''Select a site to start'''\n",
    "site = 'S200'\n",
    "veg_data_set = veg_data[veg_data.stakes == site].reset_index()"
   ]
  },
  {
   "cell_type": "code",
   "execution_count": 5,
   "id": "62d5473a-84ec-423a-96e2-4e0c477d6a4c",
   "metadata": {
    "collapsed": true,
    "jupyter": {
     "outputs_hidden": true
    }
   },
   "outputs": [
    {
     "name": "stdout",
     "output_type": "stream",
     "text": [
      "S200\n",
      "\n",
      "Trees: 12\n",
      "\n",
      "Distance inputs: 5.3543199999999995, 1.2900399696133449\n",
      "\n",
      "DBH inputs: 20.983333333333327, 7.624700689604846\n",
      "\n",
      "iteration: 0, pcoverage: 0.052597441767487436\n",
      "\n",
      "iteration: 1, pcoverage: 0.06455616075976425\n",
      "\n",
      "iteration: 2, pcoverage: 0.05776408492574764\n",
      "\n",
      "iteration: 3, pcoverage: 0.061636135095922404\n",
      "\n",
      "iteration: 4, pcoverage: 0.05977115719364523\n",
      "\n",
      "iteration: 5, pcoverage: 0.07349473568072165\n",
      "\n",
      "iteration: 6, pcoverage: 0.06074119011705202\n",
      "\n",
      "iteration: 7, pcoverage: 0.04793624307364636\n",
      "\n",
      "iteration: 8, pcoverage: 0.07189565179780232\n",
      "\n",
      "iteration: 9, pcoverage: 0.06337166001321744\n",
      "\n",
      "S200\n",
      "\n",
      "Trees: 12\n",
      "\n",
      "Distance inputs: 5.3543199999999995, 1.2900399696133449\n",
      "\n",
      "DBH inputs: 20.983333333333327, 7.624700689604846\n",
      "\n",
      "iteration: 0, pcoverage: 0.05229461333651401\n",
      "\n",
      "iteration: 1, pcoverage: 0.06518191014751018\n",
      "\n",
      "iteration: 2, pcoverage: 0.07249006066465001\n",
      "\n",
      "iteration: 3, pcoverage: 0.07172976919770109\n",
      "\n",
      "iteration: 4, pcoverage: 0.07641171675119034\n",
      "\n",
      "iteration: 5, pcoverage: 0.08578346231848961\n",
      "\n",
      "iteration: 6, pcoverage: 0.04782282425244761\n",
      "\n",
      "iteration: 7, pcoverage: 0.048332757011451725\n",
      "\n",
      "iteration: 8, pcoverage: 0.043410518995407\n",
      "\n",
      "iteration: 9, pcoverage: 0.07643767514052334\n",
      "\n"
     ]
    }
   ],
   "source": [
    "for index, row in veg_data_set.iterrows():\n",
    "    site = row.Stake_ID      \n",
    "    syear = row.SYear\n",
    "    pCon = row.prop_Coniferous\n",
    "    Co = row.Co\n",
    "    distMu = row.DIST_M\n",
    "    distSigma = row.DIST_M_SD\n",
    "    dbhMu = row.DBH_CM\n",
    "    dbhSigma = row.DBH_CM_SD\n",
    "    siteSD = row.maxDepth\n",
    "    siteLAI = row['OLS.Prediction.Ring.5']\n",
    "    n = row.n\n",
    "\n",
    "    print(site + '\\n')\n",
    "    print('Trees: ' + str(n) + '\\n')\n",
    "    print('Distance inputs: ' + str(distMu) + ', ' + str(distSigma) + '\\n')\n",
    "    print('DBH inputs: ' + str(dbhMu) + ', ' + str(dbhSigma) + '\\n')\n",
    "\n",
    "    pcov = []\n",
    "    pover = []\n",
    "    total = []\n",
    "    run = []\n",
    "\n",
    "    for i in range(0, niters):\n",
    "        pcoverage, poverlap, tot = simulateSite3D(n, distMu, distSigma, dbhMu, dbhSigma, pCon)\n",
    "        print('iteration: ' + str(i) + ', pcoverage: ' + str(pcoverage) + '\\n')\n",
    "        pcov.append(pcoverage)\n",
    "        pover.append(poverlap)\n",
    "        total.append(tot)\n",
    "        run.append(i)\n",
    "\n",
    "    #Save to dataframe and csv\n",
    "    dat = pd.DataFrame({'SITE': site, \n",
    "                        'SYEAR' : syear,\n",
    "                        'maxSnowDepth' : siteSD, \n",
    "                        'LAI' : siteLAI,\n",
    "                        'pCon' : pCon,\n",
    "                        'pCo' : Co, \n",
    "                        'distMu' : distMu, \n",
    "                        'distSigma' : distSigma, \n",
    "                        'dbhMu' :dbhMu, \n",
    "                        'dbhSigma' : dbhSigma, \n",
    "                        'iteration' : run, \n",
    "                        'pOverlap' : pover, \n",
    "                        'pCoverage' : pcov,\n",
    "                        'totalArea' : total})\n",
    "    \n",
    "    dat.to_csv('./modeloutput/test-simulation-noDecidCanopy-3D-site-' + str(site) + '-' + str(syear) + '.csv')"
   ]
  },
  {
   "cell_type": "code",
   "execution_count": null,
   "id": "c39cff16-4327-4bdf-bfc5-4ed6d9595cf5",
   "metadata": {},
   "outputs": [],
   "source": []
  }
 ],
 "metadata": {
  "kernelspec": {
   "display_name": "pymesh",
   "language": "python",
   "name": "pymesh"
  },
  "language_info": {
   "codemirror_mode": {
    "name": "ipython",
    "version": 3
   },
   "file_extension": ".py",
   "mimetype": "text/x-python",
   "name": "python",
   "nbconvert_exporter": "python",
   "pygments_lexer": "ipython3",
   "version": "3.6.15"
  }
 },
 "nbformat": 4,
 "nbformat_minor": 5
}
